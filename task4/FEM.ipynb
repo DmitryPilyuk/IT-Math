{
 "cells": [
  {
   "metadata": {},
   "cell_type": "markdown",
   "source": [
    "# Задание 4\n",
    "\n",
    "В данной работе будет рассмотрено дифференциальное уравнение вида\n",
    " \n",
    "$(p(x) y')' -q(x) y = -f(x)$, $0<x<l$\n",
    "\n",
    "$y(0) = 0, y(l) = y$\n",
    "\n"
   ],
   "id": "8a77807f92f26ee"
  },
  {
   "metadata": {
    "ExecuteTime": {
     "end_time": "2024-05-28T06:37:49.544671Z",
     "start_time": "2024-05-28T06:37:49.542811Z"
    }
   },
   "cell_type": "code",
   "source": [
    "import numpy as np\n",
    "from scipy.integrate import quad"
   ],
   "id": "87cae93c4459c62d",
   "outputs": [],
   "execution_count": 626
  },
  {
   "metadata": {
    "ExecuteTime": {
     "end_time": "2024-05-28T06:37:49.567342Z",
     "start_time": "2024-05-28T06:37:49.545709Z"
    }
   },
   "cell_type": "code",
   "source": [
    "class DiffEquation:\n",
    "    def __init__(self, p, q, f):\n",
    "        self.p = p\n",
    "        self.q = q\n",
    "        self.f = f"
   ],
   "id": "fbc121e30a2defb3",
   "outputs": [],
   "execution_count": 627
  },
  {
   "metadata": {
    "ExecuteTime": {
     "end_time": "2024-05-28T06:37:49.590184Z",
     "start_time": "2024-05-28T06:37:49.568068Z"
    }
   },
   "cell_type": "code",
   "source": [
    "def phi(j: int, x: float, xs: np.array) -> float:\n",
    "    n = xs.size\n",
    "    if j < 0 or j >= n:\n",
    "        return 0\n",
    "    elif j == 0:\n",
    "        if x <= xs[1]:\n",
    "            return (xs[1] - x) / (xs[1] - xs[0])\n",
    "        else:\n",
    "            return 0\n",
    "    elif j == n - 1:\n",
    "        if x >= xs[n - 1]:\n",
    "            return (x - xs[n - 1]) / (xs[n - 1] - xs[n - 2])\n",
    "        else:\n",
    "            return 0\n",
    "    else:\n",
    "        if xs[j - 1] <= x <= xs[j]:\n",
    "            return (x - xs[j - 1]) / (xs[j] - xs[j - 1])\n",
    "        elif xs[j] <= x <= xs[j + 1]:\n",
    "            return (xs[j + 1] - x) / (xs[j + 1] - xs[j])\n",
    "        else:\n",
    "            return 0\n",
    "    "
   ],
   "id": "6ed9c9258daa4332",
   "outputs": [],
   "execution_count": 628
  },
  {
   "metadata": {
    "ExecuteTime": {
     "end_time": "2024-05-28T06:37:49.613894Z",
     "start_time": "2024-05-28T06:37:49.591220Z"
    }
   },
   "cell_type": "code",
   "source": [
    "class SystemOfEquations:\n",
    "    def __init__(self, de: DiffEquation, xs: np.array):\n",
    "        n = xs.size\n",
    "        self.d0 = np.zeros(n)\n",
    "        self.d1 = np.zeros(n)\n",
    "        self.d2 = np.zeros(n)\n",
    "        self.v = np.zeros(n)\n",
    "        self.d1[0] = 1\n",
    "        self.d1[n - 1] = 1\n",
    "        for j in range(1, n - 1):\n",
    "            h1 = xs[j] - xs[j - 1]\n",
    "            h2 = xs[j + 1] - xs[j]\n",
    "\n",
    "            self.d0[j] = quad(lambda x: -de.p(x) + de.q(x) * (x - xs[j - 1]) * (xs[j] - x), xs[j - 1], xs[j])[0] / (h1 ** 2)\n",
    "            self.d2[j] = quad(lambda x: -de.p(x) + de.q(x) * (x - xs[j]) * (xs[j + 1] - x), xs[j], xs[j + 1])[0] / (h2 ** 2)\n",
    "            self.d1[j] = quad(lambda x: de.p(x) + de.q(x) * ((x - xs[j - 1]) ** 2), xs[j - 1], xs[j])[0] / (h1 ** 2) + quad(lambda x: de.p(x) + de.q(x) * ((xs[j + 1] - x) ** 2), xs[j], xs[j + 1])[0] / (h2 ** 2)\n",
    "            self.v[j] = quad(lambda x: de.f(x) * phi(j, x, xs), xs[j - 1], xs[j + 1])[0]\n",
    "            \n",
    "    def solve(self):\n",
    "        n = self.v.size\n",
    "\n",
    "        for j in range(1, n):\n",
    "            w = self.d0[j] / self.d1[j - 1]\n",
    "            self.d1[j] -= w * self.d2[j - 1]\n",
    "            self.v[j] -= w * self.v[j - 1]\n",
    "\n",
    "        y = np.zeros(n)\n",
    "        y[n - 1] = self.v[n - 1] / self.d1[n - 1]\n",
    "        for j in range(n - 2, -1, -1):\n",
    "            y[j] = (self.v[j] - self.d2[j] * y[j + 1]) / self.d1[j]\n",
    "        return y\n"
   ],
   "id": "9674bc7085b81a31",
   "outputs": [],
   "execution_count": 629
  },
  {
   "metadata": {
    "ExecuteTime": {
     "end_time": "2024-05-28T06:37:49.636839Z",
     "start_time": "2024-05-28T06:37:49.614483Z"
    }
   },
   "cell_type": "code",
   "source": [
    "def approximate_func(x: float, xs: np.array, ys: np.array):\n",
    "    n = xs.size\n",
    "    h = xs[1] - xs[0]\n",
    "    i = np.floor(x / h).astype(int)\n",
    "    if i == n - 1:\n",
    "        return ys[n - 1]\n",
    "    else:\n",
    "        return ys[i] * phi(i, x, xs) + ys[i + 1] * phi(i + 1, x, xs)"
   ],
   "id": "3042897d7cd510f6",
   "outputs": [],
   "execution_count": 630
  },
  {
   "metadata": {
    "ExecuteTime": {
     "end_time": "2024-05-28T06:37:49.660004Z",
     "start_time": "2024-05-28T06:37:49.637767Z"
    }
   },
   "cell_type": "code",
   "source": [
    "def compute_error(xs: np.array, ys: np.array, f):\n",
    "    n = xs.size\n",
    "    grid_size = n * 10\n",
    "    grid = np.linspace(xs[0], xs[n - 1], grid_size)\n",
    "    real = np.array([f(x) for x in grid])\n",
    "    result = np.array([approximate_func(x, xs, ys) for x in grid])\n",
    "    \n",
    "    return np.sqrt(np.sum((real - result) ** 2))"
   ],
   "id": "a1f614982de7cfb9",
   "outputs": [],
   "execution_count": 631
  },
  {
   "metadata": {},
   "cell_type": "markdown",
   "source": [
    "# Эксперимент\n",
    "\n",
    "Решим уравнение $y'' - y=-2 sin(x)$ на отрезке $[\\pi]$ с граничными условиями $y(0) = y(\\pi) = 0$.\n",
    "\n",
    "Здесь $p(x) = 1, q(x) = 1, f(x) =  2sin(x)$\n",
    "\n",
    "Ответом данного уравнения является функция $y(x) = sin(x)$"
   ],
   "id": "2bba3073ed9c0d19"
  },
  {
   "metadata": {
    "ExecuteTime": {
     "end_time": "2024-05-28T06:37:49.682711Z",
     "start_time": "2024-05-28T06:37:49.660639Z"
    }
   },
   "cell_type": "code",
   "source": [
    "def solution(x):\n",
    "    return np.sin(x)"
   ],
   "id": "a85099c812cbf26f",
   "outputs": [],
   "execution_count": 632
  },
  {
   "metadata": {
    "ExecuteTime": {
     "end_time": "2024-05-28T06:37:49.705288Z",
     "start_time": "2024-05-28T06:37:49.683445Z"
    }
   },
   "cell_type": "code",
   "source": [
    "def compute_bound(a, b, n, de):\n",
    "    j_m = 0.15\n",
    "    c = b ** 2 / 4 + 1\n",
    "    dc = j_m * np.sqrt(c)\n",
    "    h2 = ((b-a) / (n-1)) ** 2\n",
    "    norm_f = quad(lambda x: de.f(x)**2, a, b)[0]\n",
    "    return (c * dc)**2 * h2 * norm_f\n",
    "    "
   ],
   "id": "5135916e87b484d5",
   "outputs": [],
   "execution_count": 633
  },
  {
   "metadata": {
    "ExecuteTime": {
     "end_time": "2024-05-28T06:37:50.032248Z",
     "start_time": "2024-05-28T06:37:49.706587Z"
    }
   },
   "cell_type": "code",
   "source": [
    "a = 0\n",
    "b = np.pi\n",
    "\n",
    "for n in 10, 50, 100, 500, 1000:\n",
    "    xs = np.linspace(a, b, n)\n",
    "    diff_e = DiffEquation(p=lambda x: 1, q=lambda x: 1, f=lambda x: 2*np.sin(x))\n",
    "    system = SystemOfEquations(diff_e, xs)\n",
    "    ys = system.solve()\n",
    "    error = compute_error(xs, ys, solution)\n",
    "    bound = compute_bound(a, b, n, diff_e)\n",
    "    print(f'При n = {n}, максимальная ошибка = {error}, при теоретической оценке сверху = {bound}')\n"
   ],
   "id": "c62d4c2ccd366253",
   "outputs": [
    {
     "name": "stdout",
     "output_type": "stream",
     "text": [
      "При n = 10, максимальная ошибка = 0.048633532946589786, при теоретической оценке сверху = 0.7181073319791699\n",
      "При n = 50, максимальная ошибка = 0.003630297137480767, при теоретической оценке сверху = 0.024226028275848712\n",
      "При n = 100, максимальная ошибка = 0.0012582947353757367, при теоретической оценке сверху = 0.005934771338670828\n",
      "При n = 500, максимальная ошибка = 0.00011077750642811121, при теоретической оценке сверху = 0.00023360024212879774\n",
      "При n = 1000, максимальная ошибка = 3.908791049187804e-05, при теоретической оценке сверху = 5.828320201113301e-05\n"
     ]
    }
   ],
   "execution_count": 634
  },
  {
   "metadata": {},
   "cell_type": "markdown",
   "source": "При различных размерах сетки наблюдаем погрешность зависящую квадратично от h, теоретическая оценка из книги  [Методы вычислений, Хакимзянов, Черный](http://www.ict.nsc.ru/matmod/files/textbooks/KhakimzyanovCherny-2.pdf) выполняется.",
   "id": "e2b3a67a5c027643"
  }
 ],
 "metadata": {
  "kernelspec": {
   "display_name": "Python 3",
   "language": "python",
   "name": "python3"
  },
  "language_info": {
   "codemirror_mode": {
    "name": "ipython",
    "version": 2
   },
   "file_extension": ".py",
   "mimetype": "text/x-python",
   "name": "python",
   "nbconvert_exporter": "python",
   "pygments_lexer": "ipython2",
   "version": "2.7.6"
  }
 },
 "nbformat": 4,
 "nbformat_minor": 5
}
